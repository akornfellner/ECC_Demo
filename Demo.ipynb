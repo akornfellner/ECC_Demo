{
 "cells": [
  {
   "cell_type": "markdown",
   "metadata": {},
   "source": [
    "# Elliptic Curve Cryptography (ECC)\n",
    "\n",
    "Elliptic Curve Cryptography (ECC) is a type of public key cryptography that uses the mathematics behind elliptic curves to provide strong security with relatively small keys. ECC is becoming more widely used as it offers the same security as RSA with a smaller key size, which makes it more efficient. The security of ECC is based on the Elliptic Curve Discrete Logarithm Problem (ECDLP). The ECDLP is the hard problem of trying to find the integer `n`, given the points `P`, `Q` on the elliptic curve, where $Q = n \\cdot P$. This problem is known to be difficult to solve, which is what provides the basis for the security of ECC.\n",
    "\n",
    "## Use Cases\n",
    "\n",
    "### 1. Elliptic Curve Diffie-Hellman (ECDH)\n",
    "\n",
    "ECDH is a key agreement protocol that allows two parties, each having an elliptic curve public-private key pair, to establish a shared secret over an insecure channel. This shared secret may be directly used as a key, or to derive another key which can then be used to encrypt subsequent communications using a symmetric key cipher.\n",
    "\n",
    "### 2. Elliptic Curve Digital Signature Algorithm (ECDSA)\n",
    "\n",
    "ECDSA is a variant of the Digital Signature Algorithm (DSA) which uses elliptic curve cryptography. It is used to create a digital signature of data (a number derived from the secret key and the data) which can be verified by anyone who has the public key, thereby proving that the data came from the person who holds the associated private key.\n",
    "\n",
    "In summary, ECC is a powerful tool in the field of cryptography, providing efficient and secure methods for encryption, digital signatures, and key agreement.\n",
    "\n",
    "But what is an elliptic curve?"
   ]
  },
  {
   "cell_type": "markdown",
   "metadata": {},
   "source": [
    "![Elliptic Curve](img/curve.jpeg)"
   ]
  },
  {
   "cell_type": "markdown",
   "metadata": {},
   "source": [
    "## Definition\n",
    "\n",
    "An elliptic curve is a set of points that satisfy the equation:\n",
    "$$\n",
    "y^2 = x^3 + ax + b\n",
    "$$\n",
    "with `4a³ + 27b² ≠ 0`.\n",
    "\n",
    "### Calculation Rules\n",
    "\n",
    "1. **Point Addition**: The sum $R = P + Q$ is the reflection over the $x$-axis of the third point of intersection of the line through $P$ and $Q$ with the curve.\n",
    "\n",
    "2. **Point Doubling**: $2P$ is the reflection over the $x$-axis of the third point of intersection of the tangent line at $P$ with the curve.\n",
    "\n",
    "3. **Identity Element**: There is a point at infinity $O$ such that $P + O = P$ for any point `P` on the curve.\n",
    "\n",
    "4. **Inverse Element**: For every point $P$, there is another point $-P$ such that $P + (-P) = O$."
   ]
  },
  {
   "cell_type": "markdown",
   "metadata": {},
   "source": [
    "## Calculation on Elliptic Curves\n",
    "\n",
    "### Point Addition\n",
    "\n",
    "Given two points $P$ and $Q$ on the curve, the sum $R = P + Q$ is calculated as follows:\n",
    "$$ P=(x_1, y_1) \\text{ and } Q=(x_2, y_2) $$\n",
    "\n",
    "- If $P = O$, then $R = Q$.\n",
    "- If $Q = O$, then $R = P$.\n",
    "- If $P = -Q$, then $R = O$.\n",
    "- If $P = Q$, then $R = P+P$: $\\lambda = \\frac{3x_1^2 + a}{2y_1}$.\n",
    "- If $P \\neq Q$, then $R = P+Q$: $\\lambda = \\frac{y_2 - y_1}{x_2 - x_1}$.\n",
    "- $x_3 = \\lambda^2 - x_1 - x_2$.\n",
    "- $y_3 = \\lambda(x_1 - x_3) - y_1$.\n",
    "\n",
    "$$ R = (x_3, y_3) $$"
   ]
  },
  {
   "cell_type": "markdown",
   "metadata": {},
   "source": [
    "## Elliptic Curve Diffie-Hellman (ECDH) Key Derivation\n",
    "\n",
    "1. **Key Pair Generation**: Each party generates a public-private key pair. The private key is a random number, $a$ for Alice and $b$ for Bob, and the public key is the corresponding point on the elliptic curve, $A = aP$ for Alice and $B = bP$ for Bob, where $P$ is a point on the curve known to both parties.\n",
    "\n",
    "2. **Shared Secret Calculation**: Each party multiplies their own private key by the other party's public key. This results in the same point on the curve for both parties, which can be used as the shared secret.\n",
    "\n",
    "Formulas:\n",
    "- Public key: $A = aP$ for Alice and $B = bP$ for Bob\n",
    "- Shared secret: $S = aB = bA$\n",
    "\n",
    "### Example\n",
    "\n",
    "- Elliptic curve: $y^2 = x^3 + 2x+2$ over $\\mathbb{Z}_{17}$\n",
    "- Private Key (Alice): $a = 5$\n",
    "- Private Key (Bob): $b = 9$\n",
    "- Generator Point: $G = (5,1)$"
   ]
  },
  {
   "cell_type": "code",
   "execution_count": 1,
   "metadata": {},
   "outputs": [
    {
     "name": "stdout",
     "output_type": "stream",
     "text": [
      "A = (10, 6)\n",
      "B = (7, 6)\n",
      "shared secret = (13, 7)\n",
      "shared secret2 = (13, 7)\n"
     ]
    }
   ],
   "source": [
    "import ecc\n",
    "\n",
    "curve = ecc.Curve(2, 2, 17, (5, 1))\n",
    "\n",
    "# private keys\n",
    "a = 3\n",
    "b = 9\n",
    "\n",
    "# public keys\n",
    "A = curve.product(a)\n",
    "print(\"A =\", A)\n",
    "B = curve.product(b)\n",
    "print(\"B =\", B)\n",
    "\n",
    "# calculate shared secret\n",
    "\n",
    "shared_secret = curve.product(a, B)\n",
    "print(\"shared secret =\", shared_secret)\n",
    "shared_secret2 = curve.product(b, A)\n",
    "print(\"shared secret2 =\", shared_secret2)"
   ]
  },
  {
   "cell_type": "markdown",
   "metadata": {},
   "source": [
    "## Elliptic Curve Digital Signature Algorithm (ECDSA)\n",
    "\n",
    "ECDSA is a variant of the Digital Signature Algorithm (DSA) which uses elliptic curve cryptography. It is used to create a digital signature of data (a number derived from the secret key and the data) which can be verified by anyone who has the public key, thereby proving that the data came from the person who holds the associated private key.\n",
    "\n",
    "### Key Pair Generation\n",
    "\n",
    "1. **Private Key**: A random number, $d$, is generated in the range $[1, n-1]$, where $n$ is the order of the generator point $G$.\n",
    "2. **Public Key**: The public key is calculated as $Q = d \\cdot G$.\n",
    "\n",
    "### Signature Generation\n",
    "\n",
    "1. **Random Number**: A random number, $k$, is generated in the range $[1, n-1]$.\n",
    "2. **Point**: The point $k \\cdot G = (x_1, y_1)$ is calculated.\n",
    "3. **Signature**: The signature is calculated as $(r, s)$, where $r = x_1 \\mod n$ and $s = k^{-1}(z + rd) \\mod n$, where $z$ is the hash of the message.\n",
    "\n",
    "### Signature Verification\n",
    "\n",
    "1. **Point**: The point $s^{-1} \\cdot z \\cdot G + s^{-1} \\cdot r \\cdot Q = (x_1, y_1)$ is calculated.\n",
    "2. **Verification**: The signature is valid if $r = x_1 \\mod n$."
   ]
  },
  {
   "cell_type": "code",
   "execution_count": 6,
   "metadata": {},
   "outputs": [],
   "source": [
    "# TODO"
   ]
  },
  {
   "cell_type": "markdown",
   "metadata": {},
   "source": [
    "## Real Elliptic Curves in use (Curve25519)\n",
    "\n",
    "Curve25519 is an elliptic curve that is widely used in ECC. It is defined over the prime field $\\mathbb{Z}_{2^{255} - 19}$ and has the equation $y^2 = x^3 + 486662x^2 + x$. The generator point for Curve25519 is $(9,14781619447589544791020593568409986887264606134616475288964881837755586237401)$. The secret keys are 32 bytes long."
   ]
  },
  {
   "cell_type": "code",
   "execution_count": null,
   "metadata": {},
   "outputs": [],
   "source": [
    "print(\"p =\", 2**255 - 19)\n",
    "print(\"a =\", 486662)\n",
    "print(\"b =\", 1)\n",
    "print(\n",
    "    \"G =\",\n",
    "    (9, 14781619447589544791020593568409986887264606134616475288964881837755586237401),\n",
    ")"
   ]
  }
 ],
 "metadata": {
  "kernelspec": {
   "display_name": ".venv",
   "language": "python",
   "name": "python3"
  },
  "language_info": {
   "codemirror_mode": {
    "name": "ipython",
    "version": 3
   },
   "file_extension": ".py",
   "mimetype": "text/x-python",
   "name": "python",
   "nbconvert_exporter": "python",
   "pygments_lexer": "ipython3",
   "version": "3.10.12"
  }
 },
 "nbformat": 4,
 "nbformat_minor": 2
}
